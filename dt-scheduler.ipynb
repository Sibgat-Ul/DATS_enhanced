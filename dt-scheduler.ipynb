{
 "metadata": {
  "kernelspec": {
   "display_name": "Python 3",
   "language": "python",
   "name": "python3"
  },
  "language_info": {
   "name": "python",
   "version": "3.10.12",
   "mimetype": "text/x-python",
   "codemirror_mode": {
    "name": "ipython",
    "version": 3
   },
   "pygments_lexer": "ipython3",
   "nbconvert_exporter": "python",
   "file_extension": ".py"
  },
  "kaggle": {
   "accelerator": "none",
   "dataSources": [
    {
     "sourceId": 219664,
     "sourceType": "modelInstanceVersion",
     "modelInstanceId": 187338,
     "modelId": 209416
    }
   ],
   "dockerImageVersionId": 30823,
   "isInternetEnabled": true,
   "language": "python",
   "sourceType": "notebook",
   "isGpuEnabled": false
  },
  "accelerator": "GPU",
  "colab": {
   "gpuType": "T4",
   "name": "resnet101-34-kd",
   "provenance": []
  },
  "papermill": {
   "default_parameters": {},
   "duration": 7227.877548,
   "end_time": "2024-12-28T17:03:45.676396",
   "environment_variables": {},
   "exception": null,
   "input_path": "__notebook__.ipynb",
   "output_path": "__notebook__.ipynb",
   "parameters": {},
   "start_time": "2024-12-28T15:03:17.798848",
   "version": "2.6.0"
  }
 },
 "nbformat_minor": 4,
 "nbformat": 4,
 "cells": [
  {
   "cell_type": "code",
   "source": [
    "import matplotlib.pyplot as plt\n",
    "import matplotlib.ticker as mticker"
   ],
   "metadata": {
    "execution": {
     "iopub.status.busy": "2025-01-25T15:27:30.337676Z",
     "iopub.execute_input": "2025-01-25T15:27:30.337883Z",
     "iopub.status.idle": "2025-01-25T15:27:46.557562Z",
     "shell.execute_reply.started": "2025-01-25T15:27:30.337856Z",
     "shell.execute_reply": "2025-01-25T15:27:46.556763Z"
    },
    "papermill": {
     "duration": 4.486292,
     "end_time": "2024-12-28T15:03:24.743169",
     "exception": false,
     "start_time": "2024-12-28T15:03:20.256877",
     "status": "completed"
    },
    "tags": [],
    "trusted": true,
    "ExecuteTime": {
     "end_time": "2025-05-06T09:02:41.225461Z",
     "start_time": "2025-05-06T09:02:40.818202Z"
    }
   },
   "outputs": [],
   "execution_count": 3
  },
  {
   "cell_type": "code",
   "source": [
    "accuracy_list = {\n",
    "    \"dkd\": 67.52,\n",
    "    \"dkd+ours-adjust\": 67.72,\n",
    "    \"dkd+ours+adjust\": 68.10,\n",
    "}"
   ],
   "metadata": {
    "trusted": true,
    "execution": {
     "iopub.status.busy": "2025-01-25T15:27:46.558414Z",
     "iopub.execute_input": "2025-01-25T15:27:46.558656Z",
     "iopub.status.idle": "2025-01-25T15:27:53.699706Z",
     "shell.execute_reply.started": "2025-01-25T15:27:46.558633Z",
     "shell.execute_reply": "2025-01-25T15:27:53.698994Z"
    },
    "ExecuteTime": {
     "end_time": "2025-05-06T07:08:14.127385Z",
     "start_time": "2025-05-06T07:08:14.125391Z"
    }
   },
   "outputs": [],
   "execution_count": 2
  },
  {
   "metadata": {
    "ExecuteTime": {
     "end_time": "2025-05-06T09:03:10.654036Z",
     "start_time": "2025-05-06T09:03:10.652165Z"
    }
   },
   "cell_type": "code",
   "source": [
    "accuracy_list = {\n",
    "    \"1\": 67.49,\n",
    "    \"2\": 67.78,\n",
    "    \"4\": 67.64,\n",
    "    \"8\": 67.80\n",
    "}"
   ],
   "outputs": [],
   "execution_count": 5
  },
  {
   "cell_type": "code",
   "source": [
    "labels = list(accuracy_list.keys())\n",
    "values = list(accuracy_list.values())\n",
    "\n",
    "# Find the minimum value to set a lower bound for the y-axis\n",
    "min_accuracy = min(values)\n",
    "\n",
    "# Calculate a slightly lower bound to create some visual separation\n",
    "lower_bound = min_accuracy - 0.1  # Adjust 0.1 as needed\n",
    "\n",
    "plt.figure(figsize=(8, 6))\n",
    "plt.bar(labels, values)\n",
    "plt.ylabel(\"Accuracy (%)\")\n",
    "plt.title(\"Different Accuracy for Different Temperature\")\n",
    "plt.ylim(lower_bound, max(values) + 0.1)\n",
    "\n",
    "# Format the y-axis ticks to show two decimal places\n",
    "formatter = mticker.FormatStrFormatter('%.2f')\n",
    "plt.gca().yaxis.set_major_formatter(formatter)\n",
    "\n",
    "plt.tight_layout()\n",
    "plt.show()"
   ],
   "metadata": {
    "execution": {
     "iopub.status.busy": "2025-01-25T15:27:53.700912Z",
     "iopub.execute_input": "2025-01-25T15:27:53.701391Z",
     "iopub.status.idle": "2025-01-25T15:27:54.092792Z",
     "shell.execute_reply.started": "2025-01-25T15:27:53.701368Z",
     "shell.execute_reply": "2025-01-25T15:27:54.092004Z"
    },
    "trusted": true,
    "ExecuteTime": {
     "end_time": "2025-05-06T09:03:11.076668Z",
     "start_time": "2025-05-06T09:03:11.001018Z"
    }
   },
   "outputs": [
    {
     "data": {
      "text/plain": [
       "<Figure size 800x600 with 1 Axes>"
      ],
      "image/png": "[encoded data removed]"
     },
     "metadata": {},
     "output_type": "display_data"
    }
   ],
   "execution_count": 6
  },
  {
   "cell_type": "code",
   "source": "",
   "metadata": {
    "execution": {
     "iopub.status.busy": "2025-01-25T15:27:54.126230Z",
     "iopub.execute_input": "2025-01-25T15:27:54.126465Z",
     "iopub.status.idle": "2025-01-25T15:27:54.146801Z",
     "shell.execute_reply.started": "2025-01-25T15:27:54.126445Z",
     "shell.execute_reply": "2025-01-25T15:27:54.145947Z"
    },
    "papermill": {
     "duration": 0.023016,
     "end_time": "2024-12-28T15:03:24.769399",
     "exception": false,
     "start_time": "2024-12-28T15:03:24.746383",
     "status": "completed"
    },
    "tags": [],
    "trusted": true
   },
   "outputs": [],
   "execution_count": null
  },
  {
   "cell_type": "code",
   "source": "",
   "metadata": {
    "execution": {
     "iopub.status.busy": "2025-01-25T15:27:54.147686Z",
     "iopub.execute_input": "2025-01-25T15:27:54.147951Z",
     "iopub.status.idle": "2025-01-25T15:27:54.166865Z",
     "shell.execute_reply.started": "2025-01-25T15:27:54.147924Z",
     "shell.execute_reply": "2025-01-25T15:27:54.166177Z"
    },
    "papermill": {
     "duration": 0.020375,
     "end_time": "2024-12-28T15:03:24.792018",
     "exception": false,
     "start_time": "2024-12-28T15:03:24.771643",
     "status": "completed"
    },
    "tags": [],
    "trusted": true
   },
   "outputs": [],
   "execution_count": null
  },
  {
   "cell_type": "code",
   "source": "",
   "metadata": {
    "trusted": true
   },
   "outputs": [],
   "execution_count": null
  },
  {
   "cell_type": "code",
   "source": "",
   "metadata": {
    "execution": {
     "iopub.status.busy": "2025-01-25T15:27:54.167541Z",
     "iopub.execute_input": "2025-01-25T15:27:54.167752Z",
     "iopub.status.idle": "2025-01-25T15:28:04.558780Z",
     "shell.execute_reply.started": "2025-01-25T15:27:54.167733Z",
     "shell.execute_reply": "2025-01-25T15:28:04.557761Z"
    },
    "papermill": {
     "duration": 7219.361104,
     "end_time": "2024-12-28T17:03:44.155369",
     "exception": false,
     "start_time": "2024-12-28T15:03:24.794265",
     "status": "completed"
    },
    "tags": [],
    "trusted": true
   },
   "outputs": [],
   "execution_count": null
  },
  {
   "cell_type": "code",
   "source": "",
   "metadata": {
    "execution": {
     "iopub.status.busy": "2025-01-25T15:28:04.562016Z",
     "iopub.execute_input": "2025-01-25T15:28:04.562423Z",
     "iopub.status.idle": "2025-01-25T16:40:15.570805Z",
     "shell.execute_reply.started": "2025-01-25T15:28:04.562380Z",
     "shell.execute_reply": "2025-01-25T16:40:15.570185Z"
    },
    "trusted": true
   },
   "outputs": [],
   "execution_count": null
  },
  {
   "cell_type": "code",
   "source": "",
   "metadata": {
    "trusted": true
   },
   "outputs": [],
   "execution_count": null
  }
 ]
}
